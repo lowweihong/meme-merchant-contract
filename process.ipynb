{
 "cells": [
  {
   "cell_type": "code",
   "execution_count": 50,
   "id": "197cafa9-cb5b-4395-a547-f54ed9c52ebb",
   "metadata": {},
   "outputs": [],
   "source": [
    "from process_image import generate_image\n",
    "from upload_to_ipfs import upload_to_ipfs\n",
    "from update_metadata import update_metadata"
   ]
  },
  {
   "cell_type": "markdown",
   "id": "381897c9",
   "metadata": {},
   "source": [
    "## Infinity loop to process new txns"
   ]
  },
  {
   "cell_type": "code",
   "execution_count": null,
   "id": "b123ae13-45a3-49fd-8eb1-f7a25e5b87f2",
   "metadata": {},
   "outputs": [],
   "source": [
    "from web3 import Web3\n",
    "import os\n",
    "from solcx import compile_source, install_solc\n",
    "import solcx\n",
    "from solcx import compile_source\n",
    "import math\n",
    "w3 = Web3(Web3.HTTPProvider(\"http://127.0.0.1:8545\"))\n",
    "chainId=1337\n",
    "exploit_address = ''#TODO: Place the deployed address from deploy.ipynb here\n",
    "\n",
    "solcx.install_solc('0.5.17')\n",
    "gas_limit = 8000000\n",
    "chainId=9090\n",
    "\n",
    "with open(\"ShibaPayment.sol\") as f:\n",
    "    contract_source = f.read()\n",
    "compiled_sol = compile_source(contract_source, solc_version=\"0.5.17\")\n",
    "contract_interface = compiled_sol[f'<stdin>:ShibaPayment']\n",
    "abi = contract_interface['abi']\n",
    "contract = w3.eth.contract(abi=contract_interface['abi'],\n",
    "                           bytecode=contract_interface['bin'])\n",
    "\n",
    "\n",
    "deployed_contract = w3.eth.contract(address=exploit_address, abi=contract_interface['abi'])\n"
   ]
  },
  {
   "cell_type": "code",
   "execution_count": null,
   "id": "0ca915a8-7ba5-4827-a44e-bd0fb418192b",
   "metadata": {},
   "outputs": [],
   "source": [
    "private_key = \"\" #TODO: Place owner's private key here\n",
    "\n",
    "account = w3.eth.account.from_key(private_key)"
   ]
  },
  {
   "cell_type": "code",
   "execution_count": null,
   "id": "f3add377-2d34-4014-853f-981da445c943",
   "metadata": {},
   "outputs": [
    {
     "name": "stdout",
     "output_type": "stream",
     "text": [
      "Total users: 1\n",
      "Nothing to process\n",
      "Nothing to process\n"
     ]
    },
    {
     "ename": "KeyboardInterrupt",
     "evalue": "",
     "output_type": "error",
     "traceback": [
      "\u001b[31m---------------------------------------------------------------------------\u001b[39m",
      "\u001b[31mKeyboardInterrupt\u001b[39m                         Traceback (most recent call last)",
      "\u001b[36mCell\u001b[39m\u001b[36m \u001b[39m\u001b[32mIn[57]\u001b[39m\u001b[32m, line 85\u001b[39m\n\u001b[32m     82\u001b[39m \u001b[38;5;28;01mwhile\u001b[39;00m \u001b[38;5;28;01mTrue\u001b[39;00m:\n\u001b[32m     83\u001b[39m     \u001b[38;5;66;03m# Run the processing\u001b[39;00m\n\u001b[32m     84\u001b[39m     process_all_users()\n\u001b[32m---> \u001b[39m\u001b[32m85\u001b[39m     \u001b[43msleep\u001b[49m\u001b[43m(\u001b[49m\u001b[32;43m5\u001b[39;49m\u001b[43m)\u001b[49m\n",
      "\u001b[31mKeyboardInterrupt\u001b[39m: "
     ]
    }
   ],
   "source": [
    "from time import sleep\n",
    "def process_user_payments(user_address):\n",
    "    # Get total payments for this user\n",
    "    payment_count = deployed_contract.functions.userPaymentCount(user_address).call()\n",
    "    \n",
    "    \n",
    "    for index in range(payment_count):\n",
    "        try:\n",
    "            # Get payment details for each index\n",
    "            payment = deployed_contract.functions.userPayments(user_address, index).call()\n",
    "            sender, fee, tokenId, status, url = payment\n",
    "            if status == 0:\n",
    "                print(f\"\\nProcessing {payment_count} payments for user {user_address}\")\n",
    "                print()\n",
    "                print(f\"\\nPayment {index + 1}:\")\n",
    "                print(f\"Sender: {sender}\")\n",
    "                print(f\"Fee: {fee}\")\n",
    "                print(f\"TokenId: {tokenId.hex()}\")\n",
    "                print(f\"status: {status}\")\n",
    "                print(f\"url: {url}\")\n",
    "                \n",
    "                # Here you can add your IPFS upload and metadata update logic\n",
    "                image_path = generate_image('', tokenId.hex(), sender)\n",
    "                ipfs_hash = upload_to_ipfs(image_path)\n",
    "                metadata_ipfs_hash = update_metadata(tokenId.hex(), ipfs_hash, sender, '', fee)\n",
    "                image_url = f\"https://indigo-rapid-swan-980.mypinata.cloud/ipfs/{ipfs_hash}\"\n",
    "\n",
    "                # Update URL on-chain\n",
    "                url_tx = deployed_contract.functions.updatePaymentUrl(\n",
    "                    user_address,\n",
    "                    index,\n",
    "                    image_url\n",
    "                ).build_transaction({\n",
    "                    'from': account.address,\n",
    "                    'gas': gas_limit,\n",
    "                    'nonce': w3.eth.get_transaction_count(account.address),\n",
    "                    'gasPrice': math.floor(w3.eth.gas_price * 1.2),\n",
    "                    'chainId': chainId\n",
    "                })\n",
    "                \n",
    "                signed_tx = w3.eth.account.sign_transaction(url_tx, private_key)\n",
    "                tx_hash = w3.eth.send_raw_transaction(signed_tx.raw_transaction)\n",
    "                tx_receipt = w3.eth.wait_for_transaction_receipt(tx_hash)\n",
    "\n",
    "                updatePaymentStatus = deployed_contract.functions.updatePaymentStatus(user_address, index, 1).build_transaction({\n",
    "                    'from': account.address,\n",
    "                    'gas': gas_limit,\n",
    "                    'nonce': w3.eth.get_transaction_count(account.address),\n",
    "                    'gasPrice': math.floor(w3.eth.gas_price*1.2),\n",
    "                    'chainId': chainId,\n",
    "                })\n",
    "                # Sign and send update transaction\n",
    "                signed_tx = w3.eth.account.sign_transaction(updatePaymentStatus, private_key)\n",
    "                raw_tx = getattr(signed_tx, 'rawTransaction', None) or getattr(signed_tx, 'raw_transaction')\n",
    "                tx_hash = w3.eth.send_raw_transaction(raw_tx)\n",
    "                tx_receipt = w3.eth.wait_for_transaction_receipt(tx_hash)\n",
    "                print(f\"Update transaction hash: {tx_hash.hex()}\")\n",
    "                print(f\"Update transaction receipt: {tx_receipt}\")\n",
    "                print(\"Payment status updated successfully.\")\n",
    "            else:\n",
    "                print(\"Nothing to process\")\n",
    "            \n",
    "        except Exception as e:\n",
    "            print(f\"Error processing payment {index} for user {user_address}: {e}\")\n",
    "\n",
    "# Get all users who have made payments\n",
    "def process_all_users():\n",
    "    # Get user count\n",
    "    user_count = deployed_contract.functions.getUserCount().call({'from': account.address})\n",
    "    print(f\"Total users: {user_count}\")\n",
    "    \n",
    "    # Process each user's payments\n",
    "    for i in range(user_count):\n",
    "        try:\n",
    "            user_address = deployed_contract.functions.allUsers(i).call({'from': account.address})\n",
    "            # print(f\"\\nProcessing user {i + 1}/{user_count}: {user_address}\")\n",
    "            process_user_payments(user_address)\n",
    "        except Exception as e:\n",
    "            print(f\"Error processing user {i}: {e}\")\n",
    "        \n",
    "\n",
    "while True:\n",
    "    # Run the processing\n",
    "    process_all_users()\n",
    "    sleep(5)"
   ]
  },
  {
   "cell_type": "markdown",
   "id": "4ba4109a",
   "metadata": {},
   "source": [
    "## Withdraw funds with the following cells"
   ]
  },
  {
   "cell_type": "code",
   "execution_count": null,
   "id": "46bbcb05-a5c6-48e3-98e4-3a87d24e8b8b",
   "metadata": {},
   "outputs": [
    {
     "name": "stdout",
     "output_type": "stream",
     "text": [
      "balance=20\n"
     ]
    }
   ],
   "source": [
    "# Check how many balance in the contract\n",
    "\n",
    "prior = w3.from_wei(w3.eth.get_balance(exploit_address),'ether')\n",
    "print(f'balance={prior}')\n"
   ]
  },
  {
   "cell_type": "code",
   "execution_count": null,
   "id": "573f60dc-458a-400e-96ac-25740e7d8a7c",
   "metadata": {},
   "outputs": [
    {
     "name": "stdout",
     "output_type": "stream",
     "text": [
      "balance=2501.67181792916824\n",
      "1\n",
      "balance=2521.67151355916824\n"
     ]
    }
   ],
   "source": [
    "# (Owner only) to withdraw funds from the contract\n",
    "prior = w3.from_wei(w3.eth.get_balance(account.address),'ether')\n",
    "print(f'balance={prior}')\n",
    "\n",
    "# Build transaction\n",
    "tx = deployed_contract.functions.withdraw(w3.eth.get_balance(exploit_address)).build_transaction({\n",
    "    'from': account.address,\n",
    "    'gas': 8000000,  # Adjust gas as needed\n",
    "    'gasPrice': w3.eth.gas_price,\n",
    "    'nonce': w3.eth.get_transaction_count(account.address),\n",
    "    'chainId': 9090  # Use your chain ID\n",
    "})\n",
    "\n",
    "# Sign and send transaction\n",
    "signed_tx = w3.eth.account.sign_transaction(tx, private_key)\n",
    "tx_hash = w3.eth.send_raw_transaction(signed_tx.raw_transaction)\n",
    "\n",
    "# Wait for transaction receipt\n",
    "receipt = w3.eth.wait_for_transaction_receipt(tx_hash)\n",
    "print(receipt['status'])\n",
    "\n",
    "prior = w3.from_wei(w3.eth.get_balance(account.address),'ether')\n",
    "print(f'balance={prior}')\n"
   ]
  },
  {
   "cell_type": "code",
   "execution_count": 45,
   "id": "29ca5614-e521-4250-8917-693e630dffbf",
   "metadata": {},
   "outputs": [
    {
     "data": {
      "text/plain": [
       "AttributeDict({'blockHash': HexBytes('0x70d0c70eeb241763c10f02552e4d4a1c1faf1785b2b4f458ed7e8cd919ee3862'),\n",
       " 'blockNumber': 391661,\n",
       " 'contractAddress': None,\n",
       " 'cumulativeGasUsed': 30565,\n",
       " 'effectiveGasPrice': 10000000000,\n",
       " 'from': '0xDc497AfB3203408EeCBED87E836F3587d882b522',\n",
       " 'gasUsed': 30565,\n",
       " 'logs': [],\n",
       " 'logsBloom': HexBytes('0x00000000000000000000000000000000000000000000000000000000000000000000000000000000000000000000000000000000000000000000000000000000000000000000000000000000000000000000000000000000000000000000000000000000000000000000000000000000000000000000000000000000000000000000000000000000000000000000000000000000000000000000000000000000000000000000000000000000000000000000000000000000000000000000000000000000000000000000000000000000000000000000000000000000000000000000000000000000000000000000000000000000000000000000000000000000'),\n",
       " 'status': 1,\n",
       " 'to': '0xb910CF7518DA19153B26a4aB25c7f9737bdEf48d',\n",
       " 'transactionHash': HexBytes('0xec3a4a523bf03ccc74e76561c8a804afb087c9bbe4e045806ae2945092206bb6'),\n",
       " 'transactionIndex': 0,\n",
       " 'type': 0})"
      ]
     },
     "execution_count": 45,
     "metadata": {},
     "output_type": "execute_result"
    }
   ],
   "source": [
    "receipt"
   ]
  },
  {
   "cell_type": "code",
   "execution_count": 23,
   "id": "e8f33db7-a356-4f31-a67d-5580833a2a9c",
   "metadata": {},
   "outputs": [
    {
     "data": {
      "text/plain": [
       "'c9198de2ee0575e85cf34eb7853bfa3365242d152a865f4216c6b2f3c9847c47'"
      ]
     },
     "execution_count": 23,
     "metadata": {},
     "output_type": "execute_result"
    }
   ],
   "source": [
    "private_key"
   ]
  },
  {
   "cell_type": "code",
   "execution_count": 41,
   "id": "27ac950c-7403-4065-9655-8e09755ee64b",
   "metadata": {},
   "outputs": [
    {
     "data": {
      "text/plain": [
       "1"
      ]
     },
     "execution_count": 41,
     "metadata": {},
     "output_type": "execute_result"
    }
   ],
   "source": [
    "w3.eth.get_balance(exploit_address)"
   ]
  },
  {
   "cell_type": "code",
   "execution_count": 10,
   "id": "fd5bad03-9938-479a-81f0-03cb8ba2a08c",
   "metadata": {},
   "outputs": [],
   "source": [
    "import requests\n",
    "res = requests.get('https://meme-api.com/gimme/cryptocurrencymemes')\n",
    "# Download the meme\n",
    "url = res.json()[\"url\"]\n",
    "user_agent = \"Mozilla/5.0 (Windows NT 10.0; Win64; x64) AppleWebKit/537.36\"\n",
    "# urllib.request.urlopen(urllib.request.Request(meme_url, headers={\"User-Agent\": user_agent}))\n",
    "\n",
    "# Make request to API\n",
    "response = requests.get(url, stream=True)\n",
    "response.raise_for_status()\n"
   ]
  },
  {
   "cell_type": "code",
   "execution_count": 9,
   "id": "2c71cab3-91ff-4e36-95d1-85203e936b93",
   "metadata": {},
   "outputs": [
    {
     "data": {
      "text/plain": [
       "{'postLink': 'https://redd.it/1jrfkp2',\n",
       " 'subreddit': 'cryptocurrencymemes',\n",
       " 'title': 'INVESTMENTGONE',\n",
       " 'url': 'https://i.redd.it/1t0s76u7duse1.png',\n",
       " 'nsfw': False,\n",
       " 'spoiler': False,\n",
       " 'author': 'Plastic_Rough_5780',\n",
       " 'ups': 22,\n",
       " 'preview': ['https://preview.redd.it/1t0s76u7duse1.png?width=108&crop=smart&auto=webp&s=d12b6ca583589c09c37f0c826d6da0ca9deb34c1',\n",
       "  'https://preview.redd.it/1t0s76u7duse1.png?width=216&crop=smart&auto=webp&s=4536610ff2a6ccb7273f2cb5f97460251c4c5808',\n",
       "  'https://preview.redd.it/1t0s76u7duse1.png?width=320&crop=smart&auto=webp&s=cc0f8c6b7a6b6ed22ffb7528678997004f589c6e',\n",
       "  'https://preview.redd.it/1t0s76u7duse1.png?width=640&crop=smart&auto=webp&s=e7777072198a76fd0a6c049d6b9efbb513797319']}"
      ]
     },
     "execution_count": 9,
     "metadata": {},
     "output_type": "execute_result"
    }
   ],
   "source": [
    "res.json()"
   ]
  },
  {
   "cell_type": "code",
   "execution_count": null,
   "id": "dd4219e7-34c1-49ed-a751-621caf42d9f7",
   "metadata": {},
   "outputs": [],
   "source": []
  }
 ],
 "metadata": {
  "kernelspec": {
   "display_name": "Python 3 (ipykernel)",
   "language": "python",
   "name": "python3"
  },
  "language_info": {
   "codemirror_mode": {
    "name": "ipython",
    "version": 3
   },
   "file_extension": ".py",
   "mimetype": "text/x-python",
   "name": "python",
   "nbconvert_exporter": "python",
   "pygments_lexer": "ipython3",
   "version": "3.13.2"
  }
 },
 "nbformat": 4,
 "nbformat_minor": 5
}
