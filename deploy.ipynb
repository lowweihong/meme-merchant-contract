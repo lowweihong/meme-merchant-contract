{
 "cells": [
  {
   "cell_type": "code",
   "execution_count": 1,
   "id": "6ec5fdab-e3d0-4f8d-84e2-fb3d60206f3e",
   "metadata": {
    "scrolled": true
   },
   "outputs": [],
   "source": [
    "from web3 import Web3\n",
    "import os\n",
    "from solcx import compile_source, install_solc\n",
    "import solcx\n",
    "from solcx import compile_source\n",
    "import math\n",
    "# w3 = Web3(Web3.HTTPProvider(\"http://143.215.130.235:8545\"))\n",
    "# chainId=9090\n",
    "w3 = Web3(Web3.HTTPProvider(\"http://127.0.0.1:8545\"))\n",
    "chainId=1337\n",
    "\n",
    "solcx.install_solc('0.5.17')\n",
    "gas_limit = 8000000\n",
    "chainId=9090\n",
    "\n",
    "with open(\"ShibaPayment.sol\") as f:\n",
    "    contract_source = f.read()\n",
    "compiled_sol = compile_source(contract_source, solc_version=\"0.5.17\")\n",
    "contract_interface = compiled_sol[f'<stdin>:ShibaPayment']\n",
    "abi = contract_interface['abi']\n",
    "contract = w3.eth.contract(abi=contract_interface['abi'],\n",
    "                           bytecode=contract_interface['bin'])\n"
   ]
  },
  {
   "cell_type": "code",
   "execution_count": null,
   "id": "16fdf7b8-932c-45bd-91e2-87774754fbcf",
   "metadata": {},
   "outputs": [
    {
     "name": "stdout",
     "output_type": "stream",
     "text": [
      "contract deployed at: 0xb910CF7518DA19153B26a4aB25c7f9737bdEf48d\n",
      "6a9d21967614478cbceb8ee6a8eec493de88a47aaa12117ff2327b85daedfab2 AttributeDict({'blockHash': HexBytes('0xbcc549f33a4c9e6b980b1acc978db1d4295e28bfa49e4ab23c57cff266a238e0'), 'blockNumber': 391651, 'contractAddress': '0xb910CF7518DA19153B26a4aB25c7f9737bdEf48d', 'cumulativeGasUsed': 6813524, 'effectiveGasPrice': 11000000000, 'from': '0xDc497AfB3203408EeCBED87E836F3587d882b522', 'gasUsed': 6813524, 'logs': [], 'logsBloom': HexBytes('0x00000000000000000000000000000000000000000000000000000000000000000000000000000000000000000000000000000000000000000000000000000000000000000000000000000000000000000000000000000000000000000000000000000000000000000000000000000000000000000000000000000000000000000000000000000000000000000000000000000000000000000000000000000000000000000000000000000000000000000000000000000000000000000000000000000000000000000000000000000000000000000000000000000000000000000000000000000000000000000000000000000000000000000000000000000000'), 'status': 1, 'to': None, 'transactionHash': HexBytes('0x6a9d21967614478cbceb8ee6a8eec493de88a47aaa12117ff2327b85daedfab2'), 'transactionIndex': 0, 'type': 0})\n",
      "=========================================================================================================\n"
     ]
    }
   ],
   "source": [
    "\n",
    "private_key = '' #TODO: add your private key\n",
    "\n",
    "account = w3.eth.account.from_key(private_key)\n",
    "tx_hash = contract.constructor().build_transaction({\n",
    "    'from': account.address,\n",
    "    'gas': gas_limit,\n",
    "    'nonce': w3.eth.get_transaction_count(account.address),\n",
    "    'gasPrice': math.floor(w3.eth.gas_price*1.1),\n",
    "    'chainId': chainId,\n",
    "})\n",
    "# Sign and send deployment transaction\n",
    "signed_tx = w3.eth.account.sign_transaction(tx_hash, private_key)\n",
    "raw_tx = getattr(signed_tx, 'rawTransaction', None) or getattr(signed_tx, 'raw_transaction')\n",
    "tx_hash = w3.eth.send_raw_transaction(raw_tx)\n",
    "tx_receipt = w3.eth.wait_for_transaction_receipt(tx_hash)\n",
    "exploit_address = tx_receipt.contractAddress\n",
    "\n",
    "print(f\"contract deployed at: {exploit_address}\")\n",
    "print(tx_hash.hex(), tx_receipt)\n",
    "print(\"=========================================================================================================\")"
   ]
  },
  {
   "cell_type": "code",
   "execution_count": 44,
   "id": "efefef0a-6085-4eb9-9e05-2fd27d82f797",
   "metadata": {},
   "outputs": [],
   "source": [
    "\n",
    "deployed_contract = w3.eth.contract(address=exploit_address, abi=contract_interface['abi'])\n"
   ]
  },
  {
   "cell_type": "code",
   "execution_count": 45,
   "id": "d52aca16-eef3-4570-a145-24df8cb92b30",
   "metadata": {},
   "outputs": [
    {
     "data": {
      "text/plain": [
       "'0xDc497AfB3203408EeCBED87E836F3587d882b522'"
      ]
     },
     "execution_count": 45,
     "metadata": {},
     "output_type": "execute_result"
    }
   ],
   "source": [
    "account.address"
   ]
  },
  {
   "cell_type": "code",
   "execution_count": 46,
   "id": "53258747-1a6b-4cbf-8fec-e9d7d865866c",
   "metadata": {},
   "outputs": [
    {
     "data": {
      "text/plain": [
       "'0xDc497AfB3203408EeCBED87E836F3587d882b522'"
      ]
     },
     "execution_count": 46,
     "metadata": {},
     "output_type": "execute_result"
    }
   ],
   "source": [
    "deployed_contract.functions.owner.call()"
   ]
  },
  {
   "cell_type": "code",
   "execution_count": null,
   "id": "f70ca196-5f8e-4894-9a81-b9d4729370c7",
   "metadata": {},
   "outputs": [],
   "source": []
  }
 ],
 "metadata": {
  "kernelspec": {
   "display_name": "base",
   "language": "python",
   "name": "python3"
  },
  "language_info": {
   "codemirror_mode": {
    "name": "ipython",
    "version": 3
   },
   "file_extension": ".py",
   "mimetype": "text/x-python",
   "name": "python",
   "nbconvert_exporter": "python",
   "pygments_lexer": "ipython3",
   "version": "3.8.18"
  }
 },
 "nbformat": 4,
 "nbformat_minor": 5
}
